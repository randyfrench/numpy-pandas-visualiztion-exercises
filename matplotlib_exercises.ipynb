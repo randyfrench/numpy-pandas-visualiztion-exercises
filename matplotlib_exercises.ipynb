{
 "cells": [
  {
   "cell_type": "code",
   "execution_count": 34,
   "id": "ef9db255",
   "metadata": {},
   "outputs": [],
   "source": [
    "import numpy as np\n",
    "import pandas as pd\n",
    "import math\n",
    "import matplotlib.pyplot as plt\n",
    "\n",
    "\n",
    "# 1. Use matplotlib to plot the following equation:\n",
    "# y=x2−x+2\n",
    "# You'll need to write the code that generates the x and y points.\n",
    "\n",
    "# Add an anotation for the point 0, 0, the origin."
   ]
  },
  {
   "cell_type": "code",
   "execution_count": 4,
   "id": "e06d3b64",
   "metadata": {},
   "outputs": [
    {
     "name": "stdout",
     "output_type": "stream",
     "text": [
      "<module 'matplotlib.pyplot' from '/opt/homebrew/anaconda3/lib/python3.8/site-packages/matplotlib/pyplot.py'>\n"
     ]
    }
   ],
   "source": [
    "print(plt)"
   ]
  },
  {
   "cell_type": "code",
   "execution_count": 37,
   "id": "259269f7",
   "metadata": {},
   "outputs": [
    {
     "data": {
      "image/png": "[encoded data removed]",
      "text/plain": [
       "<Figure size 432x288 with 1 Axes>"
      ]
     },
     "metadata": {
      "needs_background": "light"
     },
     "output_type": "display_data"
    }
   ],
   "source": [
    "# y = x2 − x + 2\n",
    "x = range(-3, 10)\n",
    "y = [n ** 2 for n in x]\n",
    "z = [n + 2 for n in x]\n",
    "\n",
    "\n",
    "plt.plot(x, y, c='orange')\n",
    "plt.plot(x, z, c='green')\n",
    "\n",
    "plt.annotate('Intersection', xy=(-1, 1), xytext=(-2, 20),\n",
    "             arrowprops={'facecolor': 'blue'})\n",
    "\n",
    "plt.show()"
   ]
  },
  {
   "cell_type": "code",
   "execution_count": 39,
   "id": "ba8970ab",
   "metadata": {},
   "outputs": [
    {
     "data": {
      "image/png": "[encoded data removed]",
      "text/plain": [
       "<Figure size 432x288 with 1 Axes>"
      ]
     },
     "metadata": {
      "needs_background": "light"
     },
     "output_type": "display_data"
    }
   ],
   "source": [
    "x = pd.Series(list(range(75)))\n",
    "y=x**2-x+2\n",
    "plt.plot(x,y)\n",
    "plt.scatter(x,y)\n",
    "plt.text(7, 2, '(0, 0)', fontsize=10, color='blue')\n",
    "plt.xlim(-50, 200)\n",
    "plt.ylim(-50, 160)\n",
    "plt.show()"
   ]
  },
  {
   "cell_type": "code",
   "execution_count": null,
   "id": "26f71112",
   "metadata": {},
   "outputs": [],
   "source": [
    "\n",
    "# 2. Create and label 4 separate charts for the following equations (choose a range for x that makes sense):\n",
    "\n",
    "# y=√x\n",
    "# y=x3\n",
    "# y=2x\n",
    "# y=1/(x+1)\n",
    "\n",
    "# You can use functions from the math module to help implement some of the equations above.\n",
    "\n"
   ]
  },
  {
   "cell_type": "code",
   "execution_count": 32,
   "id": "b475e8b9",
   "metadata": {},
   "outputs": [
    {
     "ename": "SyntaxError",
     "evalue": "invalid syntax (<ipython-input-32-dd5de7c26a08>, line 4)",
     "output_type": "error",
     "traceback": [
      "\u001b[0;36m  File \u001b[0;32m\"<ipython-input-32-dd5de7c26a08>\"\u001b[0;36m, line \u001b[0;32m4\u001b[0m\n\u001b[0;31m    y = [n sq.rt for n in x]\u001b[0m\n\u001b[0m           ^\u001b[0m\n\u001b[0;31mSyntaxError\u001b[0m\u001b[0;31m:\u001b[0m invalid syntax\n"
     ]
    }
   ],
   "source": [
    "# y=√x\n",
    "\n",
    "x = range(1, 10)\n",
    "y = [n sq.rt for n in x]\n",
    "plt.plot(x, y)\n",
    "plt.show()"
   ]
  },
  {
   "cell_type": "code",
   "execution_count": null,
   "id": "6eab81eb",
   "metadata": {},
   "outputs": [],
   "source": [
    "# 3. Combine the figures you created in the last step into one large figure with 4 subplots.\n",
    "\n"
   ]
  },
  {
   "cell_type": "code",
   "execution_count": null,
   "id": "85c59bc8",
   "metadata": {},
   "outputs": [],
   "source": [
    "# 4. Combine the figures you created in the last step into one figure where each of the 4 equations has a different color for the points. Be sure to include a legend and an appropriate title for the figure.\n",
    "\n"
   ]
  },
  {
   "cell_type": "code",
   "execution_count": null,
   "id": "58f70a7d",
   "metadata": {},
   "outputs": [],
   "source": []
  }
 ],
 "metadata": {
  "kernelspec": {
   "display_name": "Python 3.8.8 64-bit ('base': conda)",
   "language": "python",
   "name": "python388jvsc74a57bd0b64057e63add2b45b1ffc7eab9b09c8889b419c878e2fdf0d08f837f0fc857a7"
  },
  "language_info": {
   "codemirror_mode": {
    "name": "ipython",
    "version": 3
   },
   "file_extension": ".py",
   "mimetype": "text/x-python",
   "name": "python",
   "nbconvert_exporter": "python",
   "pygments_lexer": "ipython3",
   "version": "3.8.8"
  }
 },
 "nbformat": 4,
 "nbformat_minor": 5
}
