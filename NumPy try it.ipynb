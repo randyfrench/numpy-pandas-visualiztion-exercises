{
 "cells": [
  {
   "cell_type": "code",
   "execution_count": 1,
   "id": "c37c10d1",
   "metadata": {},
   "outputs": [],
   "source": [
    "import numpy as np"
   ]
  },
  {
   "cell_type": "code",
   "execution_count": 2,
   "id": "7527a1c4",
   "metadata": {},
   "outputs": [
    {
     "data": {
      "text/plain": [
       "array([1, 2, 3])"
      ]
     },
     "execution_count": 2,
     "metadata": {},
     "output_type": "execute_result"
    }
   ],
   "source": [
    "a = np.array([1, 2, 3])\n",
    "a"
   ]
  },
  {
   "cell_type": "code",
   "execution_count": 6,
   "id": "3751c8c3",
   "metadata": {},
   "outputs": [
    {
     "data": {
      "text/plain": [
       "array([[1, 2, 3],\n",
       "       [4, 5, 6],\n",
       "       [7, 8, 9]])"
      ]
     },
     "execution_count": 6,
     "metadata": {},
     "output_type": "execute_result"
    }
   ],
   "source": [
    "matrix = np. array([[1, 2, 3],\n",
    "                    [4, 5, 6],\n",
    "                    [7, 8, 9]])\n",
    "matrix                   "
   ]
  },
  {
   "cell_type": "code",
   "execution_count": 7,
   "id": "e89f5eef",
   "metadata": {},
   "outputs": [
    {
     "data": {
      "text/plain": [
       "1"
      ]
     },
     "execution_count": 7,
     "metadata": {},
     "output_type": "execute_result"
    }
   ],
   "source": [
    "a[0]"
   ]
  },
  {
   "cell_type": "code",
   "execution_count": 10,
   "id": "d59a4948",
   "metadata": {},
   "outputs": [
    {
     "name": "stdout",
     "output_type": "stream",
     "text": [
      "a    == [1 2 3]\n",
      "a[0] == 1\n",
      "a[1] == 2\n",
      "a[2] == 3\n"
     ]
    }
   ],
   "source": [
    "print('a    == {}'.format(a))\n",
    "print('a[0] == {}'.format(a[0]))\n",
    "print('a[1] == {}'.format(a[1]))\n",
    "print('a[2] == {}'.format(a[2]))\n"
   ]
  },
  {
   "cell_type": "code",
   "execution_count": 11,
   "id": "dff12ef7",
   "metadata": {},
   "outputs": [
    {
     "data": {
      "text/plain": [
       "5"
      ]
     },
     "execution_count": 11,
     "metadata": {},
     "output_type": "execute_result"
    }
   ],
   "source": [
    "matrix[1, 1]"
   ]
  },
  {
   "cell_type": "code",
   "execution_count": 12,
   "id": "bedb6be9",
   "metadata": {},
   "outputs": [
    {
     "data": {
      "text/plain": [
       "array([[4, 5],\n",
       "       [7, 8]])"
      ]
     },
     "execution_count": 12,
     "metadata": {},
     "output_type": "execute_result"
    }
   ],
   "source": [
    "matrix[1:, :2]"
   ]
  },
  {
   "cell_type": "code",
   "execution_count": 13,
   "id": "16187544",
   "metadata": {},
   "outputs": [
    {
     "data": {
      "text/plain": [
       "array([1, 3])"
      ]
     },
     "execution_count": 13,
     "metadata": {},
     "output_type": "execute_result"
    }
   ],
   "source": [
    "should_include_elements = [True, False, True]\n",
    "a[should_include_elements]"
   ]
  },
  {
   "cell_type": "code",
   "execution_count": 14,
   "id": "365ba09d",
   "metadata": {},
   "outputs": [
    {
     "name": "stdout",
     "output_type": "stream",
     "text": [
      "An Error Occured!\n",
      "TypeError: can only concatenate list (not \"int\") to list\n"
     ]
    }
   ],
   "source": [
    "original_array = [1, 2, 3, 4, 5]\n",
    "try:\n",
    "    original_array + 1\n",
    "except TypeError as e:\n",
    "    print('An Error Occured!')\n",
    "    print(f'TypeError: {e}')"
   ]
  },
  {
   "cell_type": "code",
   "execution_count": 15,
   "id": "bcea7b88",
   "metadata": {},
   "outputs": [
    {
     "name": "stdout",
     "output_type": "stream",
     "text": [
      "[2, 3, 4, 5, 6]\n"
     ]
    }
   ],
   "source": [
    "original_array = [1, 2, 3, 4, 5]\n",
    "array_with_one_added = []\n",
    "for n in original_array:\n",
    "    array_with_one_added.append(n + 1)\n",
    "print(array_with_one_added)"
   ]
  },
  {
   "cell_type": "code",
   "execution_count": 16,
   "id": "b12761ec",
   "metadata": {},
   "outputs": [
    {
     "name": "stdout",
     "output_type": "stream",
     "text": [
      "[2, 3, 4, 5, 6]\n"
     ]
    }
   ],
   "source": [
    "original_array = [1, 2, 3, 4, 5]\n",
    "array_with_one_added = [n + 1 for n in original_array]\n",
    "print(array_with_one_added)"
   ]
  },
  {
   "cell_type": "code",
   "execution_count": 17,
   "id": "ff1e85dc",
   "metadata": {},
   "outputs": [
    {
     "data": {
      "text/plain": [
       "array([2, 3, 4, 5, 6])"
      ]
     },
     "execution_count": 17,
     "metadata": {},
     "output_type": "execute_result"
    }
   ],
   "source": [
    "original_array = np.array([1, 2, 3, 4, 5])\n",
    "original_array + 1"
   ]
  },
  {
   "cell_type": "code",
   "execution_count": 19,
   "id": "20a2bc40",
   "metadata": {},
   "outputs": [
    {
     "name": "stdout",
     "output_type": "stream",
     "text": [
      "my_array      == [-3  0  3 16]\n",
      "my_array - 5  == [-8 -5 -2 11]\n",
      "my_array * 4  == [-12   0  12  64]\n",
      "my_array / 2  == [-1.5  0.   1.5  8. ]\n",
      "my_array ** 2 == [  9   0   9 256]\n",
      "my_array % 2  == [1 0 1 0]\n"
     ]
    }
   ],
   "source": [
    "my_array = np.array([-3, 0, 3, 16])\n",
    "print('my_array      == {}'.format(my_array))\n",
    "print('my_array - 5  == {}'.format(my_array - 5))\n",
    "print('my_array * 4  == {}'.format(my_array * 4))\n",
    "print('my_array / 2  == {}'.format(my_array / 2))\n",
    "print('my_array ** 2 == {}'.format(my_array ** 2))\n",
    "print('my_array % 2  == {}'.format(my_array % 2))"
   ]
  },
  {
   "cell_type": "code",
   "execution_count": 21,
   "id": "8adcbe1f",
   "metadata": {},
   "outputs": [
    {
     "name": "stdout",
     "output_type": "stream",
     "text": [
      "my_array       == [-3  0  3 16]\n",
      "my_array == -3 == [ True False False False]\n",
      "my_array >= 0  == [False  True  True  True]\n",
      "my_array < 10  == [ True  True  True False]\n"
     ]
    }
   ],
   "source": [
    "my_array = np.array([-3, 0, 3, 16])\n",
    "print('my_array       == {}'.format(my_array))\n",
    "print('my_array == -3 == {}'.format(my_array == -3))\n",
    "print('my_array >= 0  == {}'.format(my_array >= 0))\n",
    "print('my_array < 10  == {}'.format(my_array < 10))"
   ]
  },
  {
   "cell_type": "code",
   "execution_count": 23,
   "id": "08b37883",
   "metadata": {},
   "outputs": [
    {
     "data": {
      "text/plain": [
       "array([ 3, 16])"
      ]
     },
     "execution_count": 23,
     "metadata": {},
     "output_type": "execute_result"
    }
   ],
   "source": [
    "my_array[my_array > 0]"
   ]
  },
  {
   "cell_type": "code",
   "execution_count": 24,
   "id": "13cc3faa",
   "metadata": {},
   "outputs": [
    {
     "data": {
      "text/plain": [
       "array([ 0, 16])"
      ]
     },
     "execution_count": 24,
     "metadata": {},
     "output_type": "execute_result"
    }
   ],
   "source": [
    "my_array[my_array % 2 == 0]"
   ]
  },
  {
   "cell_type": "code",
   "execution_count": 25,
   "id": "20233248",
   "metadata": {},
   "outputs": [
    {
     "data": {
      "text/plain": [
       "array([1, 0, 1, 0])"
      ]
     },
     "execution_count": 25,
     "metadata": {},
     "output_type": "execute_result"
    }
   ],
   "source": [
    "my_array % 2"
   ]
  },
  {
   "cell_type": "code",
   "execution_count": 26,
   "id": "130c8c85",
   "metadata": {},
   "outputs": [
    {
     "data": {
      "text/plain": [
       "array([False,  True, False,  True])"
      ]
     },
     "execution_count": 26,
     "metadata": {},
     "output_type": "execute_result"
    }
   ],
   "source": [
    "result = my_array % 2\n",
    "result == 0"
   ]
  },
  {
   "cell_type": "code",
   "execution_count": 27,
   "id": "f8e57a1b",
   "metadata": {},
   "outputs": [
    {
     "data": {
      "text/plain": [
       "array([ 0, 16])"
      ]
     },
     "execution_count": 27,
     "metadata": {},
     "output_type": "execute_result"
    }
   ],
   "source": [
    "step_1 = my_array % 2\n",
    "step_2 = step_1 == 0\n",
    "step_3 = my_array[step_2]\n",
    "\n",
    "step_3"
   ]
  },
  {
   "cell_type": "code",
   "execution_count": 28,
   "id": "086e5254",
   "metadata": {},
   "outputs": [
    {
     "name": "stdout",
     "output_type": "stream",
     "text": [
      "1. my_array[my_array % 2 == 0]\n",
      "    - the original expression\n",
      "2. my_array[[-3  0  3 16] % 2 == 0]\n",
      "    - variable substitution\n",
      "3. my_array[[1 0 1 0] == 0]\n",
      "    - result of performing the vectorized modulus 2\n",
      "4. my_array[[False  True False  True]]\n",
      "    - result of comparing to 0\n",
      "5. [-3  0  3 16][[False  True False  True]]\n",
      "    - variable substitution\n",
      "6. [ 0 16]\n",
      "    - our final result\n"
     ]
    }
   ],
   "source": [
    "print('1. my_array[my_array % 2 == 0]')\n",
    "print('    - the original expression')\n",
    "print('2. my_array[{} % 2 == 0]'.format(my_array))\n",
    "print('    - variable substitution')\n",
    "print('3. my_array[{} == 0]'.format(my_array % 2))\n",
    "print('    - result of performing the vectorized modulus 2')\n",
    "print('4. my_array[{}]'.format(my_array % 2 == 0))\n",
    "print('    - result of comparing to 0')\n",
    "print('5. {}[{}]'.format(my_array, my_array % 2 == 0))\n",
    "print('    - variable substitution')\n",
    "print('6. {}'.format(my_array[my_array % 2 == 0]))\n",
    "print('    - our final result')"
   ]
  },
  {
   "cell_type": "code",
   "execution_count": 29,
   "id": "bba6be6a",
   "metadata": {},
   "outputs": [
    {
     "data": {
      "text/plain": [
       "array([-2.59275104, -0.02751132,  0.73097352,  1.76408077, -0.12968503,\n",
       "        0.64546243,  0.46195967,  0.43607044, -0.2948531 ,  1.42485905])"
      ]
     },
     "execution_count": 29,
     "metadata": {},
     "output_type": "execute_result"
    }
   ],
   "source": [
    "np.random.randn(10)"
   ]
  },
  {
   "cell_type": "code",
   "execution_count": 30,
   "id": "b5ea1528",
   "metadata": {},
   "outputs": [
    {
     "data": {
      "text/plain": [
       "array([[-2.6440089 , -1.33716255,  0.96282939, -1.10310222],\n",
       "       [-0.19502141, -2.36551333, -0.05999981,  0.12535828],\n",
       "       [-0.07383979,  0.44420596,  0.64613033,  0.29097553]])"
      ]
     },
     "execution_count": 30,
     "metadata": {},
     "output_type": "execute_result"
    }
   ],
   "source": [
    "np.random.randn(3, 4)"
   ]
  },
  {
   "cell_type": "code",
   "execution_count": 35,
   "id": "8731fdf3",
   "metadata": {},
   "outputs": [
    {
     "data": {
      "text/plain": [
       "array([ 85.88187559,  80.05571862,  70.51551911,  74.16206115,\n",
       "        87.71741386, 111.88393039,  96.21669115, 124.0265765 ,\n",
       "        96.63999616, 125.1785091 ,  66.39529838,  79.03789882,\n",
       "       140.51852901, 129.49334501, 102.12419805,  71.7530125 ,\n",
       "        61.085733  , 110.45457289, 129.12747273,  67.07671183])"
      ]
     },
     "execution_count": 35,
     "metadata": {},
     "output_type": "execute_result"
    }
   ],
   "source": [
    "mu = 100\n",
    "sigma = 30\n",
    "\n",
    "sigma * np.random.randn(20) + mu"
   ]
  },
  {
   "cell_type": "code",
   "execution_count": 36,
   "id": "3442571d",
   "metadata": {},
   "outputs": [
    {
     "name": "stdout",
     "output_type": "stream",
     "text": [
      "np.zeros(3)    == [0. 0. 0.]\n",
      "np.ones(3)     == [1. 1. 1.]\n",
      "np.full(3, 17) == [17 17 17]\n"
     ]
    }
   ],
   "source": [
    "print('np.zeros(3)    == {}'.format(np.zeros(3)))\n",
    "print('np.ones(3)     == {}'.format(np.ones(3)))\n",
    "print('np.full(3, 17) == {}'.format(np.full(3, 17)))"
   ]
  },
  {
   "cell_type": "code",
   "execution_count": 37,
   "id": "0c3e1c7b",
   "metadata": {},
   "outputs": [
    {
     "data": {
      "text/plain": [
       "array([[0., 0., 0.],\n",
       "       [0., 0., 0.]])"
      ]
     },
     "execution_count": 37,
     "metadata": {},
     "output_type": "execute_result"
    }
   ],
   "source": [
    "np.zeros((2, 3))"
   ]
  },
  {
   "cell_type": "code",
   "execution_count": 40,
   "id": "fd7bfb88",
   "metadata": {},
   "outputs": [
    {
     "data": {
      "text/plain": [
       "array([0, 1, 2, 3, 4, 5, 6, 7, 8, 9])"
      ]
     },
     "execution_count": 40,
     "metadata": {},
     "output_type": "execute_result"
    }
   ],
   "source": [
    "np.arange(10)"
   ]
  },
  {
   "cell_type": "code",
   "execution_count": 39,
   "id": "a34299b7",
   "metadata": {},
   "outputs": [
    {
     "data": {
      "text/plain": [
       "array([1, 2, 3])"
      ]
     },
     "execution_count": 39,
     "metadata": {},
     "output_type": "execute_result"
    }
   ],
   "source": [
    "np.arange(1, 4)"
   ]
  },
  {
   "cell_type": "code",
   "execution_count": 41,
   "id": "24ec1f2e",
   "metadata": {},
   "outputs": [
    {
     "data": {
      "text/plain": [
       "array([1, 3, 5, 7])"
      ]
     },
     "execution_count": 41,
     "metadata": {},
     "output_type": "execute_result"
    }
   ],
   "source": [
    "np.arange(1, 8, 2)"
   ]
  },
  {
   "cell_type": "code",
   "execution_count": 42,
   "id": "21cdaefd",
   "metadata": {},
   "outputs": [
    {
     "data": {
      "text/plain": [
       "array([3. , 3.5, 4. , 4.5])"
      ]
     },
     "execution_count": 42,
     "metadata": {},
     "output_type": "execute_result"
    }
   ],
   "source": [
    "np.arange(3, 5, 0.5)"
   ]
  },
  {
   "cell_type": "code",
   "execution_count": 43,
   "id": "a0a72aef",
   "metadata": {},
   "outputs": [
    {
     "name": "stdout",
     "output_type": "stream",
     "text": [
      "min: 1, max: 4, length = 4 -- [1. 2. 3. 4.]\n",
      "min: 1, max: 4, length = 7 -- [1.  1.5 2.  2.5 3.  3.5 4. ] \n"
     ]
    }
   ],
   "source": [
    "print('min: 1, max: 4, length = 4 -- {}'.format(np.linspace(1, 4, 4)))\n",
    "print('min: 1, max: 4, length = 7 -- {} '.format(np.linspace(1, 4, 7)))"
   ]
  },
  {
   "cell_type": "code",
   "execution_count": 44,
   "id": "53fb61f9",
   "metadata": {},
   "outputs": [],
   "source": [
    "a = np.array([1, 2, 3, 4, 5])"
   ]
  },
  {
   "cell_type": "code",
   "execution_count": 45,
   "id": "2d08071a",
   "metadata": {},
   "outputs": [
    {
     "data": {
      "text/plain": [
       "1"
      ]
     },
     "execution_count": 45,
     "metadata": {},
     "output_type": "execute_result"
    }
   ],
   "source": [
    "a.min()"
   ]
  },
  {
   "cell_type": "code",
   "execution_count": 46,
   "id": "a85acc0b",
   "metadata": {},
   "outputs": [
    {
     "data": {
      "text/plain": [
       "5"
      ]
     },
     "execution_count": 46,
     "metadata": {},
     "output_type": "execute_result"
    }
   ],
   "source": [
    "a.max()"
   ]
  },
  {
   "cell_type": "code",
   "execution_count": 47,
   "id": "4aa098e6",
   "metadata": {},
   "outputs": [
    {
     "data": {
      "text/plain": [
       "3.0"
      ]
     },
     "execution_count": 47,
     "metadata": {},
     "output_type": "execute_result"
    }
   ],
   "source": [
    "a.mean()"
   ]
  },
  {
   "cell_type": "code",
   "execution_count": 48,
   "id": "baf477e3",
   "metadata": {},
   "outputs": [
    {
     "data": {
      "text/plain": [
       "15"
      ]
     },
     "execution_count": 48,
     "metadata": {},
     "output_type": "execute_result"
    }
   ],
   "source": [
    "a.sum()"
   ]
  },
  {
   "cell_type": "code",
   "execution_count": 49,
   "id": "542e62d6",
   "metadata": {},
   "outputs": [
    {
     "data": {
      "text/plain": [
       "1.4142135623730951"
      ]
     },
     "execution_count": 49,
     "metadata": {},
     "output_type": "execute_result"
    }
   ],
   "source": [
    "a.std()"
   ]
  },
  {
   "cell_type": "code",
   "execution_count": null,
   "id": "ab107dbb",
   "metadata": {},
   "outputs": [],
   "source": []
  }
 ],
 "metadata": {
  "kernelspec": {
   "display_name": "Python 3.8.8 64-bit ('base': conda)",
   "language": "python",
   "name": "python388jvsc74a57bd0b64057e63add2b45b1ffc7eab9b09c8889b419c878e2fdf0d08f837f0fc857a7"
  },
  "language_info": {
   "codemirror_mode": {
    "name": "ipython",
    "version": 3
   },
   "file_extension": ".py",
   "mimetype": "text/x-python",
   "name": "python",
   "nbconvert_exporter": "python",
   "pygments_lexer": "ipython3",
   "version": "3.8.8"
  }
 },
 "nbformat": 4,
 "nbformat_minor": 5
}
