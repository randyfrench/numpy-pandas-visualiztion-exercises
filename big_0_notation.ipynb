{
 "cells": [
  {
   "cell_type": "code",
   "execution_count": 33,
   "id": "44e56bf9",
   "metadata": {},
   "outputs": [],
   "source": [
    "import numpy as np\n",
    "import pandas as pd\n",
    "import math\n",
    "import matplotlib\n",
    "import matplotlib.pyplot as plt"
   ]
  },
  {
   "cell_type": "code",
   "execution_count": 3,
   "id": "7564033b",
   "metadata": {},
   "outputs": [
    {
     "name": "stdout",
     "output_type": "stream",
     "text": [
      "False\n"
     ]
    },
    {
     "data": {
      "text/plain": [
       "0    False\n",
       "1     True\n",
       "2    False\n",
       "3     True\n",
       "4    False\n",
       "dtype: bool"
      ]
     },
     "execution_count": 3,
     "metadata": {},
     "output_type": "execute_result"
    }
   ],
   "source": [
    "a = pd.Series([2, 3, 4, 5, 6])\n",
    "\n",
    "def is_three_or_five(x):\n",
    "    return x == 3 or x == 5\n",
    "\n",
    "print(is_three_or_five(10)) # single number function input\n",
    "a.apply(is_three_or_five) # series.apply(function_name)"
   ]
  },
  {
   "cell_type": "code",
   "execution_count": 4,
   "id": "34458194",
   "metadata": {},
   "outputs": [],
   "source": [
    "# y = 0n + 1 label the curve \"O(1)\"\n",
    "x = pd.Series(range(1, 14))\n",
    "y = 0*x + 1"
   ]
  },
  {
   "cell_type": "code",
   "execution_count": 5,
   "id": "c5bbe3fd",
   "metadata": {},
   "outputs": [],
   "source": [
    "# y = log(n)\n",
    "y1 = np.log(x)"
   ]
  },
  {
   "cell_type": "code",
   "execution_count": 6,
   "id": "167af7d4",
   "metadata": {},
   "outputs": [],
   "source": [
    "# y = n\n",
    "y2 = x"
   ]
  },
  {
   "cell_type": "code",
   "execution_count": 7,
   "id": "49294635",
   "metadata": {},
   "outputs": [
    {
     "data": {
      "text/plain": [
       "0    0.000000\n",
       "1    1.386294\n",
       "2    3.295837\n",
       "3    5.545177\n",
       "4    8.047190\n",
       "dtype: float64"
      ]
     },
     "execution_count": 7,
     "metadata": {},
     "output_type": "execute_result"
    }
   ],
   "source": [
    "# y = n * log(n)\n",
    "y3 = x * np.log(x)\n",
    "y3.head()"
   ]
  },
  {
   "cell_type": "code",
   "execution_count": 8,
   "id": "d8d10ab8",
   "metadata": {},
   "outputs": [],
   "source": [
    "# n squared\n",
    "y4 = x*x"
   ]
  },
  {
   "cell_type": "code",
   "execution_count": 9,
   "id": "aabeae70",
   "metadata": {},
   "outputs": [
    {
     "data": {
      "text/plain": [
       "0     2\n",
       "1     4\n",
       "2     8\n",
       "3    16\n",
       "4    32\n",
       "dtype: int64"
      ]
     },
     "execution_count": 9,
     "metadata": {},
     "output_type": "execute_result"
    }
   ],
   "source": [
    "# 2^n\n",
    "y5 = 2**x\n",
    "y5.head()"
   ]
  },
  {
   "cell_type": "code",
   "execution_count": 10,
   "id": "f44b213c",
   "metadata": {},
   "outputs": [],
   "source": [
    "# n!\n",
    "# np.math.factorial\n",
    "# pandas_series.apply(function_body)\n",
    "y6 = x.apply(np.math.factorial)"
   ]
  },
  {
   "cell_type": "code",
   "execution_count": 12,
   "id": "26aec5c8",
   "metadata": {},
   "outputs": [],
   "source": [
    "# n^n\n",
    "y7 = x**x"
   ]
  },
  {
   "cell_type": "code",
   "execution_count": 13,
   "id": "b337644e",
   "metadata": {},
   "outputs": [
    {
     "data": {
      "text/plain": [
       "0                   1\n",
       "1                   4\n",
       "2                  27\n",
       "3                 256\n",
       "4                3125\n",
       "5               46656\n",
       "6              823543\n",
       "7            16777216\n",
       "8           387420489\n",
       "9         10000000000\n",
       "10       285311670611\n",
       "11      8916100448256\n",
       "12    302875106592253\n",
       "dtype: int64"
      ]
     },
     "execution_count": 13,
     "metadata": {},
     "output_type": "execute_result"
    }
   ],
   "source": [
    "y7"
   ]
  },
  {
   "cell_type": "code",
   "execution_count": 28,
   "id": "1c0c1afd",
   "metadata": {},
   "outputs": [
    {
     "data": {
      "image/png": "[encoded data removed]",
      "text/plain": [
       "<Figure size 432x288 with 1 Axes>"
      ]
     },
     "metadata": {
      "needs_background": "light"
     },
     "output_type": "display_data"
    }
   ],
   "source": [
    "# 5. Make a new Jupyter notebook named big_o_notation.ipynb\n",
    "\n",
    "#    Title your chart \"Big O Notation\"\n",
    "#    Label your x axis \"Elements\"\n",
    "#    Label your y axis \"Operations\"\n",
    "#    Label your curves or make a legend for the curves\n",
    "#    Use LaTex notation where possible\n",
    "\n",
    "# Curves to graph\n",
    "\n",
    "# y=0n+1 and label the curve \"O(1)\"\n",
    "# y=log(n) and label the curve \"O(log n)\"\n",
    "# y=n and label the curve \"O(n)\"\n",
    "# y=n∗log(n) and label it \"O(n log n)\"\n",
    "# y=n2 and label it \"O(n^2)\"\n",
    "# y=2n and label it \"O(2^n)\"\n",
    "# y=n! and label it \"O(n!)\"\n",
    "# y=nn and label it \"O(n^n)\"\n",
    "\n",
    "plt.title(\"Big O Notation\")\n",
    "plt.xlabel(\"Elements\")\n",
    "plt.ylabel(\"Operations\")\n",
    "plt.plot(x, y, label=\"O(1)\")\n",
    "plt.plot(x, y1, label=\"O(log n)\")\n",
    "plt.plot(x, y2, label=\"O(n)\")\n",
    "plt.plot(x, y3, label=\"O(n log n)\")\n",
    "plt.plot(x, y4, label=\"O(n^2)\")\n",
    "plt.plot(x, y5, label=\"O(2^n)\")\n",
    "plt.plot(x, y6, label=\"O(n!)\")\n",
    "plt.plot(x, y7, label=\"O(n^n)\")\n",
    "plt.legend(loc='upper right')\n",
    "plt.xlim(0,20)\n",
    "plt.ylim(0,20)\n",
    "plt.show()\n"
   ]
  },
  {
   "cell_type": "code",
   "execution_count": 52,
   "id": "d1dd9721",
   "metadata": {},
   "outputs": [
    {
     "data": {
      "image/png": "[encoded data removed]",
      "text/plain": [
       "<Figure size 432x288 with 1 Axes>"
      ]
     },
     "metadata": {
      "needs_background": "light"
     },
     "output_type": "display_data"
    }
   ],
   "source": [
    "# 6. Bonus Write the code necessary to write your name on a chart. Use box letters.\n",
    "\n",
    "fig = plt.figure()\n",
    "ax = fig.add_subplot()\n",
    "fig.subplots_adjust(top=0.85)\n",
    "\n",
    "fig.suptitle('This is Cool!!', fontsize=14, fontweight='bold')\n",
    "ax.set_xlabel('xlabel')\n",
    "ax.set_ylabel('ylabel')\n",
    "ax.axis([0, 10, 0, 10])\n",
    "ax.text(3, 5, 'Randy French', color='red', fontsize=20)\n",
    "\n",
    "plt.show()"
   ]
  },
  {
   "cell_type": "code",
   "execution_count": null,
   "id": "1380773e",
   "metadata": {},
   "outputs": [],
   "source": [
    "# 7. Bonus: use curves for letters in your name that have curves in them."
   ]
  }
 ],
 "metadata": {
  "kernelspec": {
   "display_name": "Python 3.8.8 64-bit ('base': conda)",
   "language": "python",
   "name": "python388jvsc74a57bd0b64057e63add2b45b1ffc7eab9b09c8889b419c878e2fdf0d08f837f0fc857a7"
  },
  "language_info": {
   "codemirror_mode": {
    "name": "ipython",
    "version": 3
   },
   "file_extension": ".py",
   "mimetype": "text/x-python",
   "name": "python",
   "nbconvert_exporter": "python",
   "pygments_lexer": "ipython3",
   "version": "3.8.8"
  }
 },
 "nbformat": 4,
 "nbformat_minor": 5
}
