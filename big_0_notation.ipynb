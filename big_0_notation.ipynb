{
 "cells": [
  {
   "cell_type": "code",
   "execution_count": null,
   "id": "1c0c1afd",
   "metadata": {},
   "outputs": [],
   "source": [
    "# 5. Make a new Jupyter notebook named big_o_notation.ipynb\n",
    "\n",
    "#    Title your chart \"Big O Notation\"\n",
    "#    Label your x axis \"Elements\"\n",
    "#    Label your y axis \"Operations\"\n",
    "#    Label your curves or make a legend for the curves\n",
    "#    Use LaTex notation where possible\n",
    "\n",
    "# Curves to graph\n",
    "\n",
    "# y=0n+1 and label the curve \"O(1)\"\n",
    "# y=log(n) and label the curve \"O(log n)\"\n",
    "# y=n and label the curve \"O(n)\"\n",
    "# y=n∗log(n) and label it \"O(n log n)\"\n",
    "# y=n2 and label it \"O(n^2)\"\n",
    "# y=2n and label it \"O(2^n)\"\n",
    "# y=n! and label it \"O(n!)\"\n",
    "# y=nn and label it \"O(n^n)\"\n",
    "\n",
    "\n"
   ]
  },
  {
   "cell_type": "code",
   "execution_count": null,
   "id": "d1dd9721",
   "metadata": {},
   "outputs": [],
   "source": [
    "# 6. Bonus Write the code necessary to write your name on a chart. Use box letters.\n",
    "\n"
   ]
  },
  {
   "cell_type": "code",
   "execution_count": null,
   "id": "1380773e",
   "metadata": {},
   "outputs": [],
   "source": [
    "# 7. Bonus: use curves for letters in your name that have curves in them."
   ]
  }
 ],
 "metadata": {
  "kernelspec": {
   "display_name": "Python 3.8.8 64-bit ('base': conda)",
   "language": "python",
   "name": "python388jvsc74a57bd0b64057e63add2b45b1ffc7eab9b09c8889b419c878e2fdf0d08f837f0fc857a7"
  },
  "language_info": {
   "codemirror_mode": {
    "name": "ipython",
    "version": 3
   },
   "file_extension": ".py",
   "mimetype": "text/x-python",
   "name": "python",
   "nbconvert_exporter": "python",
   "pygments_lexer": "ipython3",
   "version": "3.8.8"
  }
 },
 "nbformat": 4,
 "nbformat_minor": 5
}
